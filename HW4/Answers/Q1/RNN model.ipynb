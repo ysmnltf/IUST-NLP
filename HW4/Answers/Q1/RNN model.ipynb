{
  "nbformat": 4,
  "nbformat_minor": 0,
  "metadata": {
    "colab": {
      "name": "NLP-HW4.ipynb",
      "provenance": []
    },
    "kernelspec": {
      "name": "python3",
      "display_name": "Python 3"
    },
    "language_info": {
      "name": "python"
    }
  },
  "cells": [
    {
      "cell_type": "markdown",
      "source": [
        "# Imports"
      ],
      "metadata": {
        "id": "Pu5ULzmwUufB"
      }
    },
    {
      "cell_type": "code",
      "source": [
        "import pandas as pd\n",
        "import numpy as np\n",
        "from keras.models import Sequential\n",
        "from keras.layers import Dense, SimpleRNN\n",
        "import matplotlib.pyplot as plt\n",
        "import tensorflow as tf"
      ],
      "metadata": {
        "id": "tQFCyafPMuPM"
      },
      "execution_count": 56,
      "outputs": []
    },
    {
      "cell_type": "markdown",
      "source": [
        "# Read Data"
      ],
      "metadata": {
        "id": "DQHRFHmMUvxY"
      }
    },
    {
      "cell_type": "code",
      "execution_count": 2,
      "metadata": {
        "colab": {
          "base_uri": "https://localhost:8080/"
        },
        "id": "SF3gLbQAMjmq",
        "outputId": "5371b99e-0aaa-4f3f-8e1c-3da9da0d7bac"
      },
      "outputs": [
        {
          "output_type": "stream",
          "name": "stdout",
          "text": [
            "Mounted at /content/drive\n"
          ]
        }
      ],
      "source": [
        "from google.colab import drive\n",
        "drive.mount('/content/drive', force_remount=True)"
      ]
    },
    {
      "cell_type": "code",
      "source": [
        "train_df = pd.read_csv('/content/drive/My Drive/nlp hw/train.csv')\n",
        "test_df = pd.read_csv('/content/drive/My Drive/nlp hw/test.csv')"
      ],
      "metadata": {
        "id": "a0i10uFVMtEz"
      },
      "execution_count": 3,
      "outputs": []
    },
    {
      "cell_type": "markdown",
      "source": [
        "# Create Dataset\n",
        "Using numpy sliding window function to create 20 consecutive days data windows."
      ],
      "metadata": {
        "id": "Q8I1U4-UUx4Y"
      }
    },
    {
      "cell_type": "code",
      "source": [
        "timesteps_n = 20\n",
        "train_x = np.lib.stride_tricks.sliding_window_view(train_df[\"value\"].to_numpy(), timesteps_n)[:-1]#.reshape((1, timesteps_n, -1))\n",
        "train_x = np.expand_dims(train_x, 1)\n",
        "train_y = train_df[\"value\"].to_numpy()[20:]\n",
        "\n",
        "test_x = np.lib.stride_tricks.sliding_window_view(test_df[\"value\"].to_numpy(), timesteps_n)[:-1]#.reshape((1, timesteps_n, -1))\n",
        "test_x = np.expand_dims(test_x, 1)\n",
        "test_y = test_df[\"value\"].to_numpy()[20:]\n",
        "\n",
        "print(f\"Data shape: train x {train_x.shape}, y {train_y.shape}\")\n",
        "print(f\"Data shape: test x {test_x.shape}, y {test_y.shape}\")"
      ],
      "metadata": {
        "colab": {
          "base_uri": "https://localhost:8080/"
        },
        "id": "yQZ-5fqtNNDP",
        "outputId": "bac701c9-b079-443e-9793-dafe22b9aea9"
      },
      "execution_count": 30,
      "outputs": [
        {
          "output_type": "stream",
          "name": "stdout",
          "text": [
            "Data shape: train x (980, 1, 20), y (980,)\n",
            "Data shape: test x (441, 1, 20), y (441,)\n"
          ]
        }
      ]
    },
    {
      "cell_type": "markdown",
      "source": [
        "# Create the model"
      ],
      "metadata": {
        "id": "c-43OjQ0U9Vc"
      }
    },
    {
      "cell_type": "code",
      "source": [
        "model = Sequential()\n",
        "model.add(SimpleRNN(units=16, input_shape=(1,timesteps_n), activation=\"relu\"))\n",
        "model.add(Dense(8, activation=\"relu\")) \n",
        "model.add(Dense(1))\n",
        "model.compile(loss='mean_squared_error', optimizer='rmsprop')\n",
        "model.summary()"
      ],
      "metadata": {
        "colab": {
          "base_uri": "https://localhost:8080/"
        },
        "id": "zGcfE9K4Os2H",
        "outputId": "a28a02b6-606a-439f-aebf-02726649f581"
      },
      "execution_count": 84,
      "outputs": [
        {
          "output_type": "stream",
          "name": "stdout",
          "text": [
            "Model: \"sequential_14\"\n",
            "_________________________________________________________________\n",
            " Layer (type)                Output Shape              Param #   \n",
            "=================================================================\n",
            " simple_rnn_13 (SimpleRNN)   (None, 16)                592       \n",
            "                                                                 \n",
            " dense_28 (Dense)            (None, 8)                 136       \n",
            "                                                                 \n",
            " dense_29 (Dense)            (None, 1)                 9         \n",
            "                                                                 \n",
            "=================================================================\n",
            "Total params: 737\n",
            "Trainable params: 737\n",
            "Non-trainable params: 0\n",
            "_________________________________________________________________\n"
          ]
        }
      ]
    },
    {
      "cell_type": "markdown",
      "source": [
        "# Train"
      ],
      "metadata": {
        "id": "oxUnMUo0VAMH"
      }
    },
    {
      "cell_type": "code",
      "source": [
        "model.fit(train_x, train_y, validation_data=(test_x, test_y), epochs=200, batch_size=64, verbose=2)"
      ],
      "metadata": {
        "colab": {
          "base_uri": "https://localhost:8080/"
        },
        "id": "MDrlkV_aPMvr",
        "outputId": "a252d820-d9d7-4eaf-d5dc-339418b54076"
      },
      "execution_count": 85,
      "outputs": [
        {
          "output_type": "stream",
          "name": "stdout",
          "text": [
            "Epoch 1/200\n",
            "16/16 - 2s - loss: 922.2952 - val_loss: 164.4411 - 2s/epoch - 94ms/step\n",
            "Epoch 2/200\n",
            "16/16 - 0s - loss: 124.7333 - val_loss: 125.1985 - 70ms/epoch - 4ms/step\n",
            "Epoch 3/200\n",
            "16/16 - 0s - loss: 118.0050 - val_loss: 147.3993 - 67ms/epoch - 4ms/step\n",
            "Epoch 4/200\n",
            "16/16 - 0s - loss: 110.5401 - val_loss: 129.4906 - 52ms/epoch - 3ms/step\n",
            "Epoch 5/200\n",
            "16/16 - 0s - loss: 89.0264 - val_loss: 113.3038 - 56ms/epoch - 4ms/step\n",
            "Epoch 6/200\n",
            "16/16 - 0s - loss: 80.1672 - val_loss: 115.1271 - 69ms/epoch - 4ms/step\n",
            "Epoch 7/200\n",
            "16/16 - 0s - loss: 74.9991 - val_loss: 72.4019 - 55ms/epoch - 3ms/step\n",
            "Epoch 8/200\n",
            "16/16 - 0s - loss: 68.9474 - val_loss: 67.5819 - 62ms/epoch - 4ms/step\n",
            "Epoch 9/200\n",
            "16/16 - 0s - loss: 64.0745 - val_loss: 118.7431 - 66ms/epoch - 4ms/step\n",
            "Epoch 10/200\n",
            "16/16 - 0s - loss: 60.5542 - val_loss: 61.9427 - 67ms/epoch - 4ms/step\n",
            "Epoch 11/200\n",
            "16/16 - 0s - loss: 60.6364 - val_loss: 70.5085 - 53ms/epoch - 3ms/step\n",
            "Epoch 12/200\n",
            "16/16 - 0s - loss: 57.3579 - val_loss: 68.6880 - 56ms/epoch - 3ms/step\n",
            "Epoch 13/200\n",
            "16/16 - 0s - loss: 57.6019 - val_loss: 55.3362 - 60ms/epoch - 4ms/step\n",
            "Epoch 14/200\n",
            "16/16 - 0s - loss: 54.8712 - val_loss: 71.4375 - 55ms/epoch - 3ms/step\n",
            "Epoch 15/200\n",
            "16/16 - 0s - loss: 56.0062 - val_loss: 61.1821 - 57ms/epoch - 4ms/step\n",
            "Epoch 16/200\n",
            "16/16 - 0s - loss: 55.4558 - val_loss: 52.5446 - 67ms/epoch - 4ms/step\n",
            "Epoch 17/200\n",
            "16/16 - 0s - loss: 54.3606 - val_loss: 51.7359 - 54ms/epoch - 3ms/step\n",
            "Epoch 18/200\n",
            "16/16 - 0s - loss: 53.0849 - val_loss: 52.2160 - 67ms/epoch - 4ms/step\n",
            "Epoch 19/200\n",
            "16/16 - 0s - loss: 52.6440 - val_loss: 54.4162 - 65ms/epoch - 4ms/step\n",
            "Epoch 20/200\n",
            "16/16 - 0s - loss: 52.2019 - val_loss: 51.2305 - 70ms/epoch - 4ms/step\n",
            "Epoch 21/200\n",
            "16/16 - 0s - loss: 52.3452 - val_loss: 82.3138 - 54ms/epoch - 3ms/step\n",
            "Epoch 22/200\n",
            "16/16 - 0s - loss: 52.0195 - val_loss: 64.5020 - 55ms/epoch - 3ms/step\n",
            "Epoch 23/200\n",
            "16/16 - 0s - loss: 50.8138 - val_loss: 50.4762 - 66ms/epoch - 4ms/step\n",
            "Epoch 24/200\n",
            "16/16 - 0s - loss: 49.7611 - val_loss: 54.6522 - 69ms/epoch - 4ms/step\n",
            "Epoch 25/200\n",
            "16/16 - 0s - loss: 50.1911 - val_loss: 50.2342 - 62ms/epoch - 4ms/step\n",
            "Epoch 26/200\n",
            "16/16 - 0s - loss: 50.0761 - val_loss: 49.9216 - 70ms/epoch - 4ms/step\n",
            "Epoch 27/200\n",
            "16/16 - 0s - loss: 49.5771 - val_loss: 49.8485 - 55ms/epoch - 3ms/step\n",
            "Epoch 28/200\n",
            "16/16 - 0s - loss: 48.7638 - val_loss: 65.1161 - 68ms/epoch - 4ms/step\n",
            "Epoch 29/200\n",
            "16/16 - 0s - loss: 47.5741 - val_loss: 51.4391 - 54ms/epoch - 3ms/step\n",
            "Epoch 30/200\n",
            "16/16 - 0s - loss: 48.1954 - val_loss: 71.0242 - 68ms/epoch - 4ms/step\n",
            "Epoch 31/200\n",
            "16/16 - 0s - loss: 47.4843 - val_loss: 62.0730 - 70ms/epoch - 4ms/step\n",
            "Epoch 32/200\n",
            "16/16 - 0s - loss: 47.4927 - val_loss: 83.5618 - 65ms/epoch - 4ms/step\n",
            "Epoch 33/200\n",
            "16/16 - 0s - loss: 46.2667 - val_loss: 127.5539 - 68ms/epoch - 4ms/step\n",
            "Epoch 34/200\n",
            "16/16 - 0s - loss: 48.4362 - val_loss: 48.3913 - 51ms/epoch - 3ms/step\n",
            "Epoch 35/200\n",
            "16/16 - 0s - loss: 45.9097 - val_loss: 47.8019 - 65ms/epoch - 4ms/step\n",
            "Epoch 36/200\n",
            "16/16 - 0s - loss: 47.6008 - val_loss: 48.1892 - 68ms/epoch - 4ms/step\n",
            "Epoch 37/200\n",
            "16/16 - 0s - loss: 45.9118 - val_loss: 71.8618 - 71ms/epoch - 4ms/step\n",
            "Epoch 38/200\n",
            "16/16 - 0s - loss: 47.0382 - val_loss: 51.8619 - 65ms/epoch - 4ms/step\n",
            "Epoch 39/200\n",
            "16/16 - 0s - loss: 46.1943 - val_loss: 65.5937 - 66ms/epoch - 4ms/step\n",
            "Epoch 40/200\n",
            "16/16 - 0s - loss: 46.5315 - val_loss: 49.1547 - 73ms/epoch - 5ms/step\n",
            "Epoch 41/200\n",
            "16/16 - 0s - loss: 44.3895 - val_loss: 53.9743 - 66ms/epoch - 4ms/step\n",
            "Epoch 42/200\n",
            "16/16 - 0s - loss: 44.8212 - val_loss: 47.8382 - 72ms/epoch - 5ms/step\n",
            "Epoch 43/200\n",
            "16/16 - 0s - loss: 44.7367 - val_loss: 58.4655 - 68ms/epoch - 4ms/step\n",
            "Epoch 44/200\n",
            "16/16 - 0s - loss: 46.6595 - val_loss: 64.7186 - 68ms/epoch - 4ms/step\n",
            "Epoch 45/200\n",
            "16/16 - 0s - loss: 43.7609 - val_loss: 55.2947 - 59ms/epoch - 4ms/step\n",
            "Epoch 46/200\n",
            "16/16 - 0s - loss: 44.8238 - val_loss: 63.5852 - 69ms/epoch - 4ms/step\n",
            "Epoch 47/200\n",
            "16/16 - 0s - loss: 43.9674 - val_loss: 46.6232 - 67ms/epoch - 4ms/step\n",
            "Epoch 48/200\n",
            "16/16 - 0s - loss: 44.7534 - val_loss: 46.5197 - 53ms/epoch - 3ms/step\n",
            "Epoch 49/200\n",
            "16/16 - 0s - loss: 43.6031 - val_loss: 64.2582 - 66ms/epoch - 4ms/step\n",
            "Epoch 50/200\n",
            "16/16 - 0s - loss: 42.8604 - val_loss: 46.1956 - 51ms/epoch - 3ms/step\n",
            "Epoch 51/200\n",
            "16/16 - 0s - loss: 43.3878 - val_loss: 46.1546 - 66ms/epoch - 4ms/step\n",
            "Epoch 52/200\n",
            "16/16 - 0s - loss: 43.8051 - val_loss: 54.9771 - 64ms/epoch - 4ms/step\n",
            "Epoch 53/200\n",
            "16/16 - 0s - loss: 42.5834 - val_loss: 58.2020 - 54ms/epoch - 3ms/step\n",
            "Epoch 54/200\n",
            "16/16 - 0s - loss: 44.8448 - val_loss: 46.5472 - 66ms/epoch - 4ms/step\n",
            "Epoch 55/200\n",
            "16/16 - 0s - loss: 42.0955 - val_loss: 49.8989 - 72ms/epoch - 5ms/step\n",
            "Epoch 56/200\n",
            "16/16 - 0s - loss: 42.3032 - val_loss: 76.4098 - 56ms/epoch - 3ms/step\n",
            "Epoch 57/200\n",
            "16/16 - 0s - loss: 42.0442 - val_loss: 77.8397 - 71ms/epoch - 4ms/step\n",
            "Epoch 58/200\n",
            "16/16 - 0s - loss: 43.0212 - val_loss: 60.2521 - 58ms/epoch - 4ms/step\n",
            "Epoch 59/200\n",
            "16/16 - 0s - loss: 42.8057 - val_loss: 47.3045 - 66ms/epoch - 4ms/step\n",
            "Epoch 60/200\n",
            "16/16 - 0s - loss: 41.3191 - val_loss: 45.3126 - 68ms/epoch - 4ms/step\n",
            "Epoch 61/200\n",
            "16/16 - 0s - loss: 42.0651 - val_loss: 46.4566 - 53ms/epoch - 3ms/step\n",
            "Epoch 62/200\n",
            "16/16 - 0s - loss: 42.2251 - val_loss: 44.7970 - 65ms/epoch - 4ms/step\n",
            "Epoch 63/200\n",
            "16/16 - 0s - loss: 40.9389 - val_loss: 67.4034 - 66ms/epoch - 4ms/step\n",
            "Epoch 64/200\n",
            "16/16 - 0s - loss: 41.0411 - val_loss: 73.7405 - 69ms/epoch - 4ms/step\n",
            "Epoch 65/200\n",
            "16/16 - 0s - loss: 42.4976 - val_loss: 45.1318 - 67ms/epoch - 4ms/step\n",
            "Epoch 66/200\n",
            "16/16 - 0s - loss: 42.0995 - val_loss: 52.2360 - 55ms/epoch - 3ms/step\n",
            "Epoch 67/200\n",
            "16/16 - 0s - loss: 41.2309 - val_loss: 52.4758 - 54ms/epoch - 3ms/step\n",
            "Epoch 68/200\n",
            "16/16 - 0s - loss: 41.0674 - val_loss: 44.5172 - 70ms/epoch - 4ms/step\n",
            "Epoch 69/200\n",
            "16/16 - 0s - loss: 41.7371 - val_loss: 62.6799 - 82ms/epoch - 5ms/step\n",
            "Epoch 70/200\n",
            "16/16 - 0s - loss: 40.4360 - val_loss: 46.6133 - 65ms/epoch - 4ms/step\n",
            "Epoch 71/200\n",
            "16/16 - 0s - loss: 40.0785 - val_loss: 56.6713 - 66ms/epoch - 4ms/step\n",
            "Epoch 72/200\n",
            "16/16 - 0s - loss: 40.7196 - val_loss: 48.9099 - 53ms/epoch - 3ms/step\n",
            "Epoch 73/200\n",
            "16/16 - 0s - loss: 40.0320 - val_loss: 53.0721 - 54ms/epoch - 3ms/step\n",
            "Epoch 74/200\n",
            "16/16 - 0s - loss: 40.1743 - val_loss: 44.7132 - 60ms/epoch - 4ms/step\n",
            "Epoch 75/200\n",
            "16/16 - 0s - loss: 40.8775 - val_loss: 44.4785 - 65ms/epoch - 4ms/step\n",
            "Epoch 76/200\n",
            "16/16 - 0s - loss: 39.7191 - val_loss: 44.7329 - 66ms/epoch - 4ms/step\n",
            "Epoch 77/200\n",
            "16/16 - 0s - loss: 40.1595 - val_loss: 46.8992 - 55ms/epoch - 3ms/step\n",
            "Epoch 78/200\n",
            "16/16 - 0s - loss: 39.7830 - val_loss: 46.9554 - 56ms/epoch - 4ms/step\n",
            "Epoch 79/200\n",
            "16/16 - 0s - loss: 39.9929 - val_loss: 52.4196 - 54ms/epoch - 3ms/step\n",
            "Epoch 80/200\n",
            "16/16 - 0s - loss: 39.3802 - val_loss: 46.6833 - 69ms/epoch - 4ms/step\n",
            "Epoch 81/200\n",
            "16/16 - 0s - loss: 39.8089 - val_loss: 53.9745 - 56ms/epoch - 4ms/step\n",
            "Epoch 82/200\n",
            "16/16 - 0s - loss: 39.5739 - val_loss: 66.7846 - 61ms/epoch - 4ms/step\n",
            "Epoch 83/200\n",
            "16/16 - 0s - loss: 39.1524 - val_loss: 51.5992 - 79ms/epoch - 5ms/step\n",
            "Epoch 84/200\n",
            "16/16 - 0s - loss: 38.9549 - val_loss: 83.4791 - 65ms/epoch - 4ms/step\n",
            "Epoch 85/200\n",
            "16/16 - 0s - loss: 40.2828 - val_loss: 45.2792 - 61ms/epoch - 4ms/step\n",
            "Epoch 86/200\n",
            "16/16 - 0s - loss: 38.5497 - val_loss: 46.4132 - 56ms/epoch - 3ms/step\n",
            "Epoch 87/200\n",
            "16/16 - 0s - loss: 40.0151 - val_loss: 44.7223 - 71ms/epoch - 4ms/step\n",
            "Epoch 88/200\n",
            "16/16 - 0s - loss: 39.0935 - val_loss: 44.1369 - 56ms/epoch - 3ms/step\n",
            "Epoch 89/200\n",
            "16/16 - 0s - loss: 38.6780 - val_loss: 76.7314 - 66ms/epoch - 4ms/step\n",
            "Epoch 90/200\n",
            "16/16 - 0s - loss: 39.7247 - val_loss: 43.8378 - 66ms/epoch - 4ms/step\n",
            "Epoch 91/200\n",
            "16/16 - 0s - loss: 38.6712 - val_loss: 44.6784 - 64ms/epoch - 4ms/step\n",
            "Epoch 92/200\n",
            "16/16 - 0s - loss: 38.8514 - val_loss: 43.6517 - 65ms/epoch - 4ms/step\n",
            "Epoch 93/200\n",
            "16/16 - 0s - loss: 37.9099 - val_loss: 72.3528 - 52ms/epoch - 3ms/step\n",
            "Epoch 94/200\n",
            "16/16 - 0s - loss: 38.8004 - val_loss: 43.9965 - 66ms/epoch - 4ms/step\n",
            "Epoch 95/200\n",
            "16/16 - 0s - loss: 37.8162 - val_loss: 44.9061 - 66ms/epoch - 4ms/step\n",
            "Epoch 96/200\n",
            "16/16 - 0s - loss: 37.3912 - val_loss: 45.3433 - 67ms/epoch - 4ms/step\n",
            "Epoch 97/200\n",
            "16/16 - 0s - loss: 38.6147 - val_loss: 43.9139 - 57ms/epoch - 4ms/step\n",
            "Epoch 98/200\n",
            "16/16 - 0s - loss: 38.1027 - val_loss: 49.9023 - 72ms/epoch - 4ms/step\n",
            "Epoch 99/200\n",
            "16/16 - 0s - loss: 38.5069 - val_loss: 43.3205 - 73ms/epoch - 5ms/step\n",
            "Epoch 100/200\n",
            "16/16 - 0s - loss: 36.7172 - val_loss: 115.3086 - 87ms/epoch - 5ms/step\n",
            "Epoch 101/200\n",
            "16/16 - 0s - loss: 38.9066 - val_loss: 46.9478 - 56ms/epoch - 4ms/step\n",
            "Epoch 102/200\n",
            "16/16 - 0s - loss: 38.1434 - val_loss: 46.3103 - 63ms/epoch - 4ms/step\n",
            "Epoch 103/200\n",
            "16/16 - 0s - loss: 38.3700 - val_loss: 43.7945 - 53ms/epoch - 3ms/step\n",
            "Epoch 104/200\n",
            "16/16 - 0s - loss: 37.7333 - val_loss: 50.3059 - 67ms/epoch - 4ms/step\n",
            "Epoch 105/200\n",
            "16/16 - 0s - loss: 38.1616 - val_loss: 44.3542 - 65ms/epoch - 4ms/step\n",
            "Epoch 106/200\n",
            "16/16 - 0s - loss: 37.0948 - val_loss: 44.1617 - 65ms/epoch - 4ms/step\n",
            "Epoch 107/200\n",
            "16/16 - 0s - loss: 37.7292 - val_loss: 54.0193 - 68ms/epoch - 4ms/step\n",
            "Epoch 108/200\n",
            "16/16 - 0s - loss: 37.4320 - val_loss: 43.5704 - 65ms/epoch - 4ms/step\n",
            "Epoch 109/200\n",
            "16/16 - 0s - loss: 37.5333 - val_loss: 47.4739 - 56ms/epoch - 4ms/step\n",
            "Epoch 110/200\n",
            "16/16 - 0s - loss: 37.0014 - val_loss: 43.4828 - 52ms/epoch - 3ms/step\n",
            "Epoch 111/200\n",
            "16/16 - 0s - loss: 37.3491 - val_loss: 93.7724 - 53ms/epoch - 3ms/step\n",
            "Epoch 112/200\n",
            "16/16 - 0s - loss: 37.3508 - val_loss: 43.5798 - 69ms/epoch - 4ms/step\n",
            "Epoch 113/200\n",
            "16/16 - 0s - loss: 37.9822 - val_loss: 67.3638 - 61ms/epoch - 4ms/step\n",
            "Epoch 114/200\n",
            "16/16 - 0s - loss: 36.8954 - val_loss: 65.1075 - 54ms/epoch - 3ms/step\n",
            "Epoch 115/200\n",
            "16/16 - 0s - loss: 37.9031 - val_loss: 84.6733 - 63ms/epoch - 4ms/step\n",
            "Epoch 116/200\n",
            "16/16 - 0s - loss: 36.9502 - val_loss: 43.7966 - 58ms/epoch - 4ms/step\n",
            "Epoch 117/200\n",
            "16/16 - 0s - loss: 37.6368 - val_loss: 43.0975 - 67ms/epoch - 4ms/step\n",
            "Epoch 118/200\n",
            "16/16 - 0s - loss: 36.7521 - val_loss: 46.5695 - 55ms/epoch - 3ms/step\n",
            "Epoch 119/200\n",
            "16/16 - 0s - loss: 37.3702 - val_loss: 43.3431 - 68ms/epoch - 4ms/step\n",
            "Epoch 120/200\n",
            "16/16 - 0s - loss: 36.8341 - val_loss: 52.5639 - 66ms/epoch - 4ms/step\n",
            "Epoch 121/200\n",
            "16/16 - 0s - loss: 37.1895 - val_loss: 68.6480 - 55ms/epoch - 3ms/step\n",
            "Epoch 122/200\n",
            "16/16 - 0s - loss: 36.7210 - val_loss: 52.7937 - 65ms/epoch - 4ms/step\n",
            "Epoch 123/200\n",
            "16/16 - 0s - loss: 36.8953 - val_loss: 53.7367 - 65ms/epoch - 4ms/step\n",
            "Epoch 124/200\n",
            "16/16 - 0s - loss: 36.0222 - val_loss: 91.8202 - 63ms/epoch - 4ms/step\n",
            "Epoch 125/200\n",
            "16/16 - 0s - loss: 37.3112 - val_loss: 44.6654 - 53ms/epoch - 3ms/step\n",
            "Epoch 126/200\n",
            "16/16 - 0s - loss: 37.0458 - val_loss: 48.1392 - 65ms/epoch - 4ms/step\n",
            "Epoch 127/200\n",
            "16/16 - 0s - loss: 36.1690 - val_loss: 99.6620 - 70ms/epoch - 4ms/step\n",
            "Epoch 128/200\n",
            "16/16 - 0s - loss: 36.2057 - val_loss: 45.1555 - 64ms/epoch - 4ms/step\n",
            "Epoch 129/200\n",
            "16/16 - 0s - loss: 37.8764 - val_loss: 43.3031 - 71ms/epoch - 4ms/step\n",
            "Epoch 130/200\n",
            "16/16 - 0s - loss: 35.6240 - val_loss: 43.1817 - 63ms/epoch - 4ms/step\n",
            "Epoch 131/200\n",
            "16/16 - 0s - loss: 37.1099 - val_loss: 49.2500 - 59ms/epoch - 4ms/step\n",
            "Epoch 132/200\n",
            "16/16 - 0s - loss: 36.7936 - val_loss: 43.3104 - 52ms/epoch - 3ms/step\n",
            "Epoch 133/200\n",
            "16/16 - 0s - loss: 36.4077 - val_loss: 49.5678 - 64ms/epoch - 4ms/step\n",
            "Epoch 134/200\n",
            "16/16 - 0s - loss: 36.2728 - val_loss: 45.1597 - 67ms/epoch - 4ms/step\n",
            "Epoch 135/200\n",
            "16/16 - 0s - loss: 36.6753 - val_loss: 43.6031 - 54ms/epoch - 3ms/step\n",
            "Epoch 136/200\n",
            "16/16 - 0s - loss: 36.1730 - val_loss: 52.5634 - 54ms/epoch - 3ms/step\n",
            "Epoch 137/200\n",
            "16/16 - 0s - loss: 35.5002 - val_loss: 66.6578 - 53ms/epoch - 3ms/step\n",
            "Epoch 138/200\n",
            "16/16 - 0s - loss: 36.5810 - val_loss: 48.8114 - 64ms/epoch - 4ms/step\n",
            "Epoch 139/200\n",
            "16/16 - 0s - loss: 35.6561 - val_loss: 59.9315 - 64ms/epoch - 4ms/step\n",
            "Epoch 140/200\n",
            "16/16 - 0s - loss: 37.1837 - val_loss: 56.9377 - 69ms/epoch - 4ms/step\n",
            "Epoch 141/200\n",
            "16/16 - 0s - loss: 35.2861 - val_loss: 56.0244 - 70ms/epoch - 4ms/step\n",
            "Epoch 142/200\n",
            "16/16 - 0s - loss: 35.9003 - val_loss: 44.0381 - 73ms/epoch - 5ms/step\n",
            "Epoch 143/200\n",
            "16/16 - 0s - loss: 36.3476 - val_loss: 76.1114 - 57ms/epoch - 4ms/step\n",
            "Epoch 144/200\n",
            "16/16 - 0s - loss: 35.4621 - val_loss: 43.4320 - 66ms/epoch - 4ms/step\n",
            "Epoch 145/200\n",
            "16/16 - 0s - loss: 36.5500 - val_loss: 43.7511 - 71ms/epoch - 4ms/step\n",
            "Epoch 146/200\n",
            "16/16 - 0s - loss: 35.3731 - val_loss: 48.6786 - 68ms/epoch - 4ms/step\n",
            "Epoch 147/200\n",
            "16/16 - 0s - loss: 36.3420 - val_loss: 54.1045 - 69ms/epoch - 4ms/step\n",
            "Epoch 148/200\n",
            "16/16 - 0s - loss: 36.1068 - val_loss: 52.4530 - 73ms/epoch - 5ms/step\n",
            "Epoch 149/200\n",
            "16/16 - 0s - loss: 35.7196 - val_loss: 55.1580 - 66ms/epoch - 4ms/step\n",
            "Epoch 150/200\n",
            "16/16 - 0s - loss: 35.6590 - val_loss: 43.5650 - 70ms/epoch - 4ms/step\n",
            "Epoch 151/200\n",
            "16/16 - 0s - loss: 36.1749 - val_loss: 48.0804 - 55ms/epoch - 3ms/step\n",
            "Epoch 152/200\n",
            "16/16 - 0s - loss: 34.8805 - val_loss: 48.8365 - 52ms/epoch - 3ms/step\n",
            "Epoch 153/200\n",
            "16/16 - 0s - loss: 35.5546 - val_loss: 44.7405 - 60ms/epoch - 4ms/step\n",
            "Epoch 154/200\n",
            "16/16 - 0s - loss: 35.3835 - val_loss: 67.9088 - 68ms/epoch - 4ms/step\n",
            "Epoch 155/200\n",
            "16/16 - 0s - loss: 36.2540 - val_loss: 54.4719 - 67ms/epoch - 4ms/step\n",
            "Epoch 156/200\n",
            "16/16 - 0s - loss: 35.0849 - val_loss: 65.5702 - 53ms/epoch - 3ms/step\n",
            "Epoch 157/200\n",
            "16/16 - 0s - loss: 35.1811 - val_loss: 50.0972 - 67ms/epoch - 4ms/step\n",
            "Epoch 158/200\n",
            "16/16 - 0s - loss: 35.9030 - val_loss: 43.5744 - 67ms/epoch - 4ms/step\n",
            "Epoch 159/200\n",
            "16/16 - 0s - loss: 35.0732 - val_loss: 53.2871 - 61ms/epoch - 4ms/step\n",
            "Epoch 160/200\n",
            "16/16 - 0s - loss: 36.5023 - val_loss: 47.2062 - 71ms/epoch - 4ms/step\n",
            "Epoch 161/200\n",
            "16/16 - 0s - loss: 35.2741 - val_loss: 51.7538 - 77ms/epoch - 5ms/step\n",
            "Epoch 162/200\n",
            "16/16 - 0s - loss: 35.3212 - val_loss: 48.2866 - 55ms/epoch - 3ms/step\n",
            "Epoch 163/200\n",
            "16/16 - 0s - loss: 34.6774 - val_loss: 42.9750 - 71ms/epoch - 4ms/step\n",
            "Epoch 164/200\n",
            "16/16 - 0s - loss: 35.3561 - val_loss: 44.3002 - 69ms/epoch - 4ms/step\n",
            "Epoch 165/200\n",
            "16/16 - 0s - loss: 34.8681 - val_loss: 44.3644 - 68ms/epoch - 4ms/step\n",
            "Epoch 166/200\n",
            "16/16 - 0s - loss: 35.6834 - val_loss: 44.0493 - 54ms/epoch - 3ms/step\n",
            "Epoch 167/200\n",
            "16/16 - 0s - loss: 34.3239 - val_loss: 44.9422 - 65ms/epoch - 4ms/step\n",
            "Epoch 168/200\n",
            "16/16 - 0s - loss: 35.6206 - val_loss: 61.4889 - 66ms/epoch - 4ms/step\n",
            "Epoch 169/200\n",
            "16/16 - 0s - loss: 34.6799 - val_loss: 46.4376 - 66ms/epoch - 4ms/step\n",
            "Epoch 170/200\n",
            "16/16 - 0s - loss: 35.7315 - val_loss: 55.5404 - 64ms/epoch - 4ms/step\n",
            "Epoch 171/200\n",
            "16/16 - 0s - loss: 34.9527 - val_loss: 44.4781 - 69ms/epoch - 4ms/step\n",
            "Epoch 172/200\n",
            "16/16 - 0s - loss: 34.6993 - val_loss: 62.2158 - 66ms/epoch - 4ms/step\n",
            "Epoch 173/200\n",
            "16/16 - 0s - loss: 36.5682 - val_loss: 46.7944 - 64ms/epoch - 4ms/step\n",
            "Epoch 174/200\n",
            "16/16 - 0s - loss: 34.6954 - val_loss: 67.4431 - 56ms/epoch - 3ms/step\n",
            "Epoch 175/200\n",
            "16/16 - 0s - loss: 34.5146 - val_loss: 43.9425 - 60ms/epoch - 4ms/step\n",
            "Epoch 176/200\n",
            "16/16 - 0s - loss: 34.7306 - val_loss: 47.8020 - 65ms/epoch - 4ms/step\n",
            "Epoch 177/200\n",
            "16/16 - 0s - loss: 34.2733 - val_loss: 44.1739 - 60ms/epoch - 4ms/step\n",
            "Epoch 178/200\n",
            "16/16 - 0s - loss: 35.5432 - val_loss: 43.7652 - 52ms/epoch - 3ms/step\n",
            "Epoch 179/200\n",
            "16/16 - 0s - loss: 34.6092 - val_loss: 43.4470 - 52ms/epoch - 3ms/step\n",
            "Epoch 180/200\n",
            "16/16 - 0s - loss: 34.2824 - val_loss: 73.4453 - 63ms/epoch - 4ms/step\n",
            "Epoch 181/200\n",
            "16/16 - 0s - loss: 34.7768 - val_loss: 43.3559 - 69ms/epoch - 4ms/step\n",
            "Epoch 182/200\n",
            "16/16 - 0s - loss: 34.1626 - val_loss: 47.1833 - 54ms/epoch - 3ms/step\n",
            "Epoch 183/200\n",
            "16/16 - 0s - loss: 34.3167 - val_loss: 48.5855 - 70ms/epoch - 4ms/step\n",
            "Epoch 184/200\n",
            "16/16 - 0s - loss: 35.1958 - val_loss: 65.3178 - 67ms/epoch - 4ms/step\n",
            "Epoch 185/200\n",
            "16/16 - 0s - loss: 34.3832 - val_loss: 55.5498 - 54ms/epoch - 3ms/step\n",
            "Epoch 186/200\n",
            "16/16 - 0s - loss: 34.4524 - val_loss: 53.4601 - 69ms/epoch - 4ms/step\n",
            "Epoch 187/200\n",
            "16/16 - 0s - loss: 35.2664 - val_loss: 43.6992 - 65ms/epoch - 4ms/step\n",
            "Epoch 188/200\n",
            "16/16 - 0s - loss: 35.5710 - val_loss: 46.7098 - 66ms/epoch - 4ms/step\n",
            "Epoch 189/200\n",
            "16/16 - 0s - loss: 34.7093 - val_loss: 46.0775 - 56ms/epoch - 4ms/step\n",
            "Epoch 190/200\n",
            "16/16 - 0s - loss: 34.6598 - val_loss: 50.7978 - 74ms/epoch - 5ms/step\n",
            "Epoch 191/200\n",
            "16/16 - 0s - loss: 34.3794 - val_loss: 47.2430 - 70ms/epoch - 4ms/step\n",
            "Epoch 192/200\n",
            "16/16 - 0s - loss: 35.2325 - val_loss: 47.8223 - 54ms/epoch - 3ms/step\n",
            "Epoch 193/200\n",
            "16/16 - 0s - loss: 33.8077 - val_loss: 56.1424 - 53ms/epoch - 3ms/step\n",
            "Epoch 194/200\n",
            "16/16 - 0s - loss: 34.7200 - val_loss: 48.5330 - 56ms/epoch - 3ms/step\n",
            "Epoch 195/200\n",
            "16/16 - 0s - loss: 34.3483 - val_loss: 66.9957 - 53ms/epoch - 3ms/step\n",
            "Epoch 196/200\n",
            "16/16 - 0s - loss: 34.3128 - val_loss: 48.7713 - 66ms/epoch - 4ms/step\n",
            "Epoch 197/200\n",
            "16/16 - 0s - loss: 35.1738 - val_loss: 57.5558 - 73ms/epoch - 5ms/step\n",
            "Epoch 198/200\n",
            "16/16 - 0s - loss: 33.8251 - val_loss: 43.3718 - 76ms/epoch - 5ms/step\n",
            "Epoch 199/200\n",
            "16/16 - 0s - loss: 34.8899 - val_loss: 49.4585 - 54ms/epoch - 3ms/step\n",
            "Epoch 200/200\n",
            "16/16 - 0s - loss: 34.9538 - val_loss: 47.3192 - 54ms/epoch - 3ms/step\n"
          ]
        },
        {
          "output_type": "execute_result",
          "data": {
            "text/plain": [
              "<keras.callbacks.History at 0x7f7be0eb77d0>"
            ]
          },
          "metadata": {},
          "execution_count": 85
        }
      ]
    },
    {
      "cell_type": "markdown",
      "source": [
        "# Predict and Evaluate"
      ],
      "metadata": {
        "id": "soSfzY4rVBnr"
      }
    },
    {
      "cell_type": "code",
      "source": [
        "mse = model.evaluate(test_x, test_y, batch_size=64, verbose=2)\n",
        "pred = model.predict(test_x, batch_size=64, verbose=0)"
      ],
      "metadata": {
        "colab": {
          "base_uri": "https://localhost:8080/"
        },
        "id": "ZH_alZt6RVew",
        "outputId": "b70f0d37-3032-459e-ef69-93fb23b3251b"
      },
      "execution_count": 90,
      "outputs": [
        {
          "output_type": "stream",
          "name": "stdout",
          "text": [
            "7/7 - 0s - loss: 47.3192 - 34ms/epoch - 5ms/step\n"
          ]
        }
      ]
    },
    {
      "cell_type": "code",
      "source": [
        "plt.plot(np.arange(len(test_y)), test_y, label='Ground Truth')\n",
        "plt.plot(np.arange(len(pred)), pred, label='Predictions')\n",
        "plt.legend(loc=\"lower right\")\n",
        "plt.grid()\n",
        "plt.title(f\"MSE: {mse}\")\n",
        "plt.show()"
      ],
      "metadata": {
        "colab": {
          "base_uri": "https://localhost:8080/",
          "height": 281
        },
        "id": "YiCpQAghRc9R",
        "outputId": "c416e1f0-8a8f-4b03-b544-71726afa94c5"
      },
      "execution_count": 94,
      "outputs": [
        {
          "output_type": "display_data",
          "data": {
            "text/plain": [
              "<Figure size 432x288 with 1 Axes>"
            ],
            "image/png": "[encoded data removed]"
          },
          "metadata": {
            "needs_background": "light"
          }
        }
      ]
    }
  ]
}